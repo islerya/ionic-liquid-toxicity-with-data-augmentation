{
  "nbformat": 4,
  "nbformat_minor": 0,
  "metadata": {
    "colab": {
      "provenance": []
    },
    "kernelspec": {
      "name": "python3",
      "display_name": "Python 3"
    },
    "language_info": {
      "name": "python"
    }
  },
  "cells": [
    {
      "cell_type": "markdown",
      "source": [
        "Install Required library"
      ],
      "metadata": {
        "id": "vxbaNu1Yp-ZA"
      }
    },
    {
      "cell_type": "code",
      "execution_count": null,
      "metadata": {
        "colab": {
          "base_uri": "https://localhost:8080/"
        },
        "collapsed": true,
        "id": "Ft6nNjt2Dhks",
        "outputId": "a4461f3a-1c76-45b1-9ce2-f35a46a967e5"
      },
      "outputs": [
        {
          "output_type": "stream",
          "name": "stdout",
          "text": [
            "Collecting rdkit\n",
            "  Downloading rdkit-2024.3.6-cp310-cp310-manylinux_2_28_x86_64.whl.metadata (4.0 kB)\n",
            "Requirement already satisfied: numpy in /usr/local/lib/python3.10/dist-packages (from rdkit) (1.26.4)\n",
            "Requirement already satisfied: Pillow in /usr/local/lib/python3.10/dist-packages (from rdkit) (11.0.0)\n",
            "Downloading rdkit-2024.3.6-cp310-cp310-manylinux_2_28_x86_64.whl (32.8 MB)\n",
            "\u001b[2K   \u001b[90m━━━━━━━━━━━━━━━━━━━━━━━━━━━━━━━━━━━━━━━━\u001b[0m \u001b[32m32.8/32.8 MB\u001b[0m \u001b[31m17.6 MB/s\u001b[0m eta \u001b[36m0:00:00\u001b[0m\n",
            "\u001b[?25hInstalling collected packages: rdkit\n",
            "Successfully installed rdkit-2024.3.6\n"
          ]
        }
      ],
      "source": [
        "!pip install rdkit"
      ]
    },
    {
      "cell_type": "markdown",
      "source": [
        "Import Libraryies require for this study"
      ],
      "metadata": {
        "id": "K1g7uui0qCzt"
      }
    },
    {
      "cell_type": "code",
      "source": [
        "from rdkit import Chem\n",
        "from rdkit.Chem import AllChem\n",
        "from rdkit.Chem.MolStandardize import rdMolStandardize\n",
        "import pandas as pd"
      ],
      "metadata": {
        "id": "ajrmjd5WDrAb"
      },
      "execution_count": null,
      "outputs": []
    },
    {
      "cell_type": "markdown",
      "source": [
        "Import the data that you want to augment as CSV format."
      ],
      "metadata": {
        "id": "g_jsE-RpqRYm"
      }
    },
    {
      "cell_type": "code",
      "source": [
        "data = pd.read_csv(your_data)"
      ],
      "metadata": {
        "id": "cUzCgRWZD6Oj"
      },
      "execution_count": null,
      "outputs": []
    },
    {
      "cell_type": "markdown",
      "source": [
        "Create the function for data augmentation"
      ],
      "metadata": {
        "id": "b8pzokEbqZcu"
      }
    },
    {
      "cell_type": "code",
      "source": [
        "def augment_smiles(smiles, n_random=5):\n",
        "    mol = Chem.MolFromSmiles(smiles)\n",
        "\n",
        "    # Generate canonical SMILES\n",
        "    canonical_smiles = Chem.MolToSmiles(mol, canonical=True)\n",
        "\n",
        "    # Generate random SMILES\n",
        "    random_smiles_list = [Chem.MolToSmiles(mol, canonical=False, doRandom=True) for _ in range(n_random)]\n",
        "\n",
        "    # Generate tautomers\n",
        "    enumerator = rdMolStandardize.TautomerEnumerator()\n",
        "    tautomers = enumerator.Enumerate(mol)\n",
        "    tautomer_smiles_list = [Chem.MolToSmiles(taut) for taut in tautomers]\n",
        "\n",
        "    # Combine all SMILES\n",
        "    augmented_smiles = set([canonical_smiles] + random_smiles_list + tautomer_smiles_list)\n",
        "\n",
        "    return list(augmented_smiles)"
      ],
      "metadata": {
        "id": "wCg0c6a8ES69"
      },
      "execution_count": null,
      "outputs": []
    },
    {
      "cell_type": "code",
      "source": [
        "# Augment the dataset\n",
        "augmented_data = []\n",
        "\n",
        "for idx, row in data.iterrows():\n",
        "    smiles = row['SMILES']\n",
        "    logEC50 = row['Experimental logEC50']\n",
        "    augmented_smiles_list = augment_smiles(smiles)\n",
        "\n",
        "    for augmented_smiles in augmented_smiles_list:\n",
        "        augmented_data.append({\n",
        "            'IL No.': row['IL No.'],\n",
        "            'Name': row['Name'],\n",
        "            'SMILES': augmented_smiles,\n",
        "            'Experimental logEC50': logEC50\n",
        "        })\n",
        "\n",
        "augmented_df = pd.DataFrame(augmented_data)"
      ],
      "metadata": {
        "id": "85csFEXREVFK"
      },
      "execution_count": null,
      "outputs": []
    },
    {
      "cell_type": "markdown",
      "source": [
        "save your augmented data in CSV format."
      ],
      "metadata": {
        "id": "O6jvozxSqpft"
      }
    },
    {
      "cell_type": "code",
      "source": [
        "augmented_df.to_csv('/yourAddres/Augmented_Book1.csv', index=False)\n"
      ],
      "metadata": {
        "id": "3KS2qcKJEcqO"
      },
      "execution_count": null,
      "outputs": []
    },
    {
      "cell_type": "markdown",
      "source": [
        "Load the augmented data again in CSV format"
      ],
      "metadata": {
        "id": "-k6Xl4Kfq3i9"
      }
    },
    {
      "cell_type": "code",
      "source": [
        "data_augmented = pd.read_csv(CSV_file_path)"
      ],
      "metadata": {
        "id": "GlhT3YzsEda6"
      },
      "execution_count": null,
      "outputs": []
    },
    {
      "cell_type": "code",
      "source": [
        "data_augmented.shape"
      ],
      "metadata": {
        "colab": {
          "base_uri": "https://localhost:8080/"
        },
        "id": "6r_fxvWXEyW1",
        "outputId": "72bb504b-c0c6-4164-bb89-0524ef1f6820"
      },
      "execution_count": null,
      "outputs": [
        {
          "output_type": "execute_result",
          "data": {
            "text/plain": [
              "(2119, 4)"
            ]
          },
          "metadata": {},
          "execution_count": 13
        }
      ]
    },
    {
      "cell_type": "code",
      "source": [
        "!pip install pandas openpyxl"
      ],
      "metadata": {
        "colab": {
          "base_uri": "https://localhost:8080/"
        },
        "id": "H29F6nhjE3e5",
        "outputId": "29c7964b-143c-416c-faf7-61b9fc10d0b7"
      },
      "execution_count": null,
      "outputs": [
        {
          "output_type": "stream",
          "name": "stdout",
          "text": [
            "Requirement already satisfied: pandas in /usr/local/lib/python3.10/dist-packages (2.0.3)\n",
            "Requirement already satisfied: openpyxl in /usr/local/lib/python3.10/dist-packages (3.1.5)\n",
            "Requirement already satisfied: python-dateutil>=2.8.2 in /usr/local/lib/python3.10/dist-packages (from pandas) (2.8.2)\n",
            "Requirement already satisfied: pytz>=2020.1 in /usr/local/lib/python3.10/dist-packages (from pandas) (2023.4)\n",
            "Requirement already satisfied: tzdata>=2022.1 in /usr/local/lib/python3.10/dist-packages (from pandas) (2024.1)\n",
            "Requirement already satisfied: numpy>=1.21.0 in /usr/local/lib/python3.10/dist-packages (from pandas) (1.25.2)\n",
            "Requirement already satisfied: et-xmlfile in /usr/local/lib/python3.10/dist-packages (from openpyxl) (1.1.0)\n",
            "Requirement already satisfied: six>=1.5 in /usr/local/lib/python3.10/dist-packages (from python-dateutil>=2.8.2->pandas) (1.16.0)\n"
          ]
        }
      ]
    },
    {
      "cell_type": "markdown",
      "source": [
        "If you want to have detail insights for your augmented data, for instance: Counting unique SMILES in each dataset and Calculate duplicates eliminated, you can run code below."
      ],
      "metadata": {
        "id": "PpnA3FNmrNyd"
      }
    },
    {
      "cell_type": "code",
      "source": [
        "#Get the SMILES of the original data\n",
        "original_smiles = data[\"SMILES\"].unique()"
      ],
      "metadata": {
        "id": "45njBZxb58z-"
      },
      "execution_count": null,
      "outputs": []
    },
    {
      "cell_type": "code",
      "source": [
        "#Get the SMILES of the Augmented data\n",
        "augmented_smiles = augmented_data[\"SMILES\"].unique()"
      ],
      "metadata": {
        "id": "YMAlgoUR6NJ2"
      },
      "execution_count": null,
      "outputs": []
    },
    {
      "cell_type": "code",
      "source": [
        "# Count unique SMILES in each dataset\n",
        "original_count = len(original_smiles)\n",
        "augmented_count = len(augmented_smiles)\n",
        "\n",
        "# Calculate duplicates eliminated\n",
        "duplicates_eliminated = original_count - augmented_count\n",
        "\n",
        "# Print results\n",
        "print(f\"Original SMILES Count: {original_count}\")\n",
        "print(f\"Augmented SMILES Count: {augmented_count}\")\n",
        "print(f\"Duplicates Eliminated: {duplicates_eliminated}\")"
      ],
      "metadata": {
        "colab": {
          "base_uri": "https://localhost:8080/"
        },
        "id": "y5anRoSX6PaN",
        "outputId": "71fcf56f-ce1f-48e6-85f9-dfcf9c4ec946"
      },
      "execution_count": null,
      "outputs": [
        {
          "output_type": "stream",
          "name": "stdout",
          "text": [
            "Original SMILES Count: 355\n",
            "Augmented SMILES Count: 2062\n",
            "Duplicates Eliminated: -1707\n"
          ]
        }
      ]
    }
  ]
}